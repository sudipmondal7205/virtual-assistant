{
 "cells": [
  {
   "cell_type": "code",
   "execution_count": 1,
   "id": "61cb5c8c",
   "metadata": {},
   "outputs": [],
   "source": [
    "import numpy as np\n",
    "import pandas as pd\n",
    "import matplotlib.pyplot as plt\n",
    "import seaborn as sns"
   ]
  },
  {
   "cell_type": "code",
   "execution_count": 2,
   "id": "b17618fc",
   "metadata": {},
   "outputs": [],
   "source": [
    "df = pd.read_csv('crop-prediction.csv')"
   ]
  },
  {
   "cell_type": "code",
   "execution_count": 3,
   "id": "5e5cd8fb",
   "metadata": {},
   "outputs": [
    {
     "data": {
      "text/html": [
       "<div>\n",
       "<style scoped>\n",
       "    .dataframe tbody tr th:only-of-type {\n",
       "        vertical-align: middle;\n",
       "    }\n",
       "\n",
       "    .dataframe tbody tr th {\n",
       "        vertical-align: top;\n",
       "    }\n",
       "\n",
       "    .dataframe thead th {\n",
       "        text-align: right;\n",
       "    }\n",
       "</style>\n",
       "<table border=\"1\" class=\"dataframe\">\n",
       "  <thead>\n",
       "    <tr style=\"text-align: right;\">\n",
       "      <th></th>\n",
       "      <th>N</th>\n",
       "      <th>P</th>\n",
       "      <th>K</th>\n",
       "      <th>ph</th>\n",
       "      <th>Rainfall</th>\n",
       "      <th>Temperature</th>\n",
       "      <th>Humidity</th>\n",
       "      <th>Crop</th>\n",
       "    </tr>\n",
       "  </thead>\n",
       "  <tbody>\n",
       "    <tr>\n",
       "      <th>175</th>\n",
       "      <td>77</td>\n",
       "      <td>52</td>\n",
       "      <td>17</td>\n",
       "      <td>5.714800</td>\n",
       "      <td>75.822705</td>\n",
       "      <td>24.863749</td>\n",
       "      <td>65.742005</td>\n",
       "      <td>Maize</td>\n",
       "    </tr>\n",
       "    <tr>\n",
       "      <th>3375</th>\n",
       "      <td>31</td>\n",
       "      <td>36</td>\n",
       "      <td>29</td>\n",
       "      <td>6.460543</td>\n",
       "      <td>97.461192</td>\n",
       "      <td>33.936799</td>\n",
       "      <td>52.721703</td>\n",
       "      <td>mango</td>\n",
       "    </tr>\n",
       "    <tr>\n",
       "      <th>3996</th>\n",
       "      <td>43</td>\n",
       "      <td>64</td>\n",
       "      <td>47</td>\n",
       "      <td>6.825665</td>\n",
       "      <td>102.270823</td>\n",
       "      <td>38.589545</td>\n",
       "      <td>91.580765</td>\n",
       "      <td>rice</td>\n",
       "    </tr>\n",
       "    <tr>\n",
       "      <th>2764</th>\n",
       "      <td>22</td>\n",
       "      <td>36</td>\n",
       "      <td>16</td>\n",
       "      <td>8.184229</td>\n",
       "      <td>64.585596</td>\n",
       "      <td>30.581395</td>\n",
       "      <td>50.771481</td>\n",
       "      <td>sugarcane</td>\n",
       "    </tr>\n",
       "    <tr>\n",
       "      <th>1113</th>\n",
       "      <td>11</td>\n",
       "      <td>27</td>\n",
       "      <td>30</td>\n",
       "      <td>6.394743</td>\n",
       "      <td>89.856465</td>\n",
       "      <td>27.696378</td>\n",
       "      <td>48.562249</td>\n",
       "      <td>Mango</td>\n",
       "    </tr>\n",
       "    <tr>\n",
       "      <th>1017</th>\n",
       "      <td>109</td>\n",
       "      <td>79</td>\n",
       "      <td>45</td>\n",
       "      <td>6.490074</td>\n",
       "      <td>108.664640</td>\n",
       "      <td>27.667528</td>\n",
       "      <td>79.685428</td>\n",
       "      <td>Banana</td>\n",
       "    </tr>\n",
       "    <tr>\n",
       "      <th>2022</th>\n",
       "      <td>84</td>\n",
       "      <td>55</td>\n",
       "      <td>38</td>\n",
       "      <td>6.956683</td>\n",
       "      <td>173.101710</td>\n",
       "      <td>26.874839</td>\n",
       "      <td>79.787252</td>\n",
       "      <td>Jute</td>\n",
       "    </tr>\n",
       "  </tbody>\n",
       "</table>\n",
       "</div>"
      ],
      "text/plain": [
       "        N   P   K        ph    Rainfall  Temperature   Humidity       Crop\n",
       "175    77  52  17  5.714800   75.822705    24.863749  65.742005      Maize\n",
       "3375   31  36  29  6.460543   97.461192    33.936799  52.721703      mango\n",
       "3996   43  64  47  6.825665  102.270823    38.589545  91.580765       rice\n",
       "2764   22  36  16  8.184229   64.585596    30.581395  50.771481  sugarcane\n",
       "1113   11  27  30  6.394743   89.856465    27.696378  48.562249      Mango\n",
       "1017  109  79  45  6.490074  108.664640    27.667528  79.685428     Banana\n",
       "2022   84  55  38  6.956683  173.101710    26.874839  79.787252       Jute"
      ]
     },
     "execution_count": 3,
     "metadata": {},
     "output_type": "execute_result"
    }
   ],
   "source": [
    "df.sample(7)"
   ]
  },
  {
   "cell_type": "code",
   "execution_count": 5,
   "id": "fffd1077",
   "metadata": {},
   "outputs": [
    {
     "data": {
      "text/plain": [
       "np.int64(35)"
      ]
     },
     "execution_count": 5,
     "metadata": {},
     "output_type": "execute_result"
    }
   ],
   "source": [
    "df['Crop'].value_counts().count()"
   ]
  },
  {
   "cell_type": "code",
   "execution_count": 6,
   "id": "a7663910",
   "metadata": {},
   "outputs": [
    {
     "name": "stdout",
     "output_type": "stream",
     "text": [
      "<class 'pandas.core.frame.DataFrame'>\n",
      "RangeIndex: 4400 entries, 0 to 4399\n",
      "Data columns (total 8 columns):\n",
      " #   Column       Non-Null Count  Dtype  \n",
      "---  ------       --------------  -----  \n",
      " 0   N            4400 non-null   int64  \n",
      " 1   P            4400 non-null   int64  \n",
      " 2   K            4400 non-null   int64  \n",
      " 3   ph           4400 non-null   float64\n",
      " 4   Rainfall     4400 non-null   float64\n",
      " 5   Temperature  4400 non-null   float64\n",
      " 6   Humidity     4400 non-null   float64\n",
      " 7   Crop         4400 non-null   object \n",
      "dtypes: float64(4), int64(3), object(1)\n",
      "memory usage: 275.1+ KB\n"
     ]
    }
   ],
   "source": [
    "df.info()"
   ]
  },
  {
   "cell_type": "code",
   "execution_count": null,
   "id": "670f7acf",
   "metadata": {},
   "outputs": [],
   "source": []
  }
 ],
 "metadata": {
  "kernelspec": {
   "display_name": "Python 3",
   "language": "python",
   "name": "python3"
  },
  "language_info": {
   "codemirror_mode": {
    "name": "ipython",
    "version": 3
   },
   "file_extension": ".py",
   "mimetype": "text/x-python",
   "name": "python",
   "nbconvert_exporter": "python",
   "pygments_lexer": "ipython3",
   "version": "3.12.7"
  }
 },
 "nbformat": 4,
 "nbformat_minor": 5
}
